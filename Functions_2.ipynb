{
  "nbformat": 4,
  "nbformat_minor": 0,
  "metadata": {
    "colab": {
      "provenance": [],
      "include_colab_link": true
    },
    "kernelspec": {
      "name": "python3",
      "display_name": "Python 3"
    },
    "language_info": {
      "name": "python"
    }
  },
  "cells": [
    {
      "cell_type": "markdown",
      "metadata": {
        "id": "view-in-github",
        "colab_type": "text"
      },
      "source": [
        "<a href=\"https://colab.research.google.com/github/Nitish9973/song_data_analysis/blob/main/Functions_2.ipynb\" target=\"_parent\"><img src=\"https://colab.research.google.com/assets/colab-badge.svg\" alt=\"Open In Colab\"/></a>"
      ]
    },
    {
      "cell_type": "code",
      "execution_count": null,
      "metadata": {
        "colab": {
          "base_uri": "https://localhost:8080/",
          "height": 142
        },
        "id": "Ig2SxrU9GoEE",
        "outputId": "775f5331-30c2-4074-ddaf-9d1cc8c63e5f"
      },
      "outputs": [
        {
          "output_type": "error",
          "ename": "SyntaxError",
          "evalue": "ignored",
          "traceback": [
            "\u001b[0;36m  File \u001b[0;32m\"<ipython-input-1-7e852531446a>\"\u001b[0;36m, line \u001b[0;32m3\u001b[0m\n\u001b[0;31m    function random():\u001b[0m\n\u001b[0m             ^\u001b[0m\n\u001b[0;31mSyntaxError\u001b[0m\u001b[0;31m:\u001b[0m invalid syntax\n"
          ]
        }
      ],
      "source": [
        "# Quiz 1\n",
        "\n",
        "function random():\n",
        "    return True\n",
        "\n",
        "random()"
      ]
    },
    {
      "cell_type": "code",
      "source": [
        "# Quiz 2\n",
        "\n",
        "def abc():\n",
        "    return \"I am a function!\"\n",
        "\n",
        "abc()\n",
        "\n",
        "# \"I am a function'\n",
        "# 'I am a function\"\n",
        "# \"I am a function\""
      ],
      "metadata": {
        "id": "HivWNn5hIoKu"
      },
      "execution_count": null,
      "outputs": []
    },
    {
      "cell_type": "code",
      "source": [
        "# Quiz 3\n",
        "\n",
        "def sum(a, b):\n",
        "   return a+b\n",
        "\n",
        "sum(3, 5)\n",
        "\n",
        "# We are not print the sum\n",
        "# So output will be Nothing"
      ],
      "metadata": {
        "id": "wIPEjCcwJii5"
      },
      "execution_count": null,
      "outputs": []
    },
    {
      "cell_type": "code",
      "source": [
        "# Quiz 4\n",
        "\n",
        "a = 10\n",
        "\n",
        "def calculator(number):\n",
        "    print(number * 10)\n",
        "\n",
        "calculator(a)\n",
        "print(a)"
      ],
      "metadata": {
        "colab": {
          "base_uri": "https://localhost:8080/"
        },
        "id": "mmyg2yV5J_ae",
        "outputId": "2ab95097-f901-493f-ee37-06579400fa6d"
      },
      "execution_count": null,
      "outputs": [
        {
          "output_type": "stream",
          "name": "stdout",
          "text": [
            "100\n",
            "10\n"
          ]
        }
      ]
    },
    {
      "cell_type": "code",
      "source": [
        "# Quiz 5\n",
        "\n",
        "a = 57\n",
        "\n",
        "def simple_function(a):\n",
        "  if a <= 10:\n",
        "    return \"SMALL\"\n",
        "  elif a > 10:\n",
        "    return \"BIG\"\n",
        "\n",
        "print(simple_function(a))"
      ],
      "metadata": {
        "colab": {
          "base_uri": "https://localhost:8080/"
        },
        "id": "JCOiLkAELRvE",
        "outputId": "6defbc0f-0362-467b-fd51-f59f3c176a7a"
      },
      "execution_count": null,
      "outputs": [
        {
          "output_type": "stream",
          "name": "stdout",
          "text": [
            "BIG\n"
          ]
        }
      ]
    },
    {
      "cell_type": "markdown",
      "source": [
        "Positional arguments"
      ],
      "metadata": {
        "id": "rUM4S8AYMVfp"
      }
    },
    {
      "cell_type": "code",
      "source": [
        "def introduce_family(my_name, father_name, mother_name):\n",
        "    print(\"My name is\", my_name)\n",
        "    print(\"My father's is\", father_name)\n",
        "    print(\"My mother's is\", mother_name)"
      ],
      "metadata": {
        "id": "U0XWUxDWMWdk"
      },
      "execution_count": null,
      "outputs": []
    },
    {
      "cell_type": "code",
      "source": [
        "introduce_family(\"Harry\", \"James\", \"Lily\")"
      ],
      "metadata": {
        "colab": {
          "base_uri": "https://localhost:8080/"
        },
        "id": "gxyZSNtrMbKm",
        "outputId": "9516c31b-21da-4003-f1b2-047c56b59fae"
      },
      "execution_count": null,
      "outputs": [
        {
          "output_type": "stream",
          "name": "stdout",
          "text": [
            "My name is Harry\n",
            "My father's is James\n",
            "My mother's is Lily\n"
          ]
        }
      ]
    },
    {
      "cell_type": "markdown",
      "source": [
        "Default arguments\n",
        "\n",
        "They're defined in the function definition"
      ],
      "metadata": {
        "id": "3yOiwvw7Mw5Q"
      }
    },
    {
      "cell_type": "code",
      "source": [
        "def introduce_family(father_name, mother_name, my_name = \"Harry\"):\n",
        "    print(\"My father's is\", father_name)\n",
        "    print(\"My mother's is\", mother_name)\n",
        "    print(\"My name is\", my_name)"
      ],
      "metadata": {
        "id": "qMe_6EuPMyhp"
      },
      "execution_count": null,
      "outputs": []
    },
    {
      "cell_type": "code",
      "source": [
        "# If I give input for default argument\n",
        "# The value I give will be used\n",
        "\n",
        "introduce_family(\"James\", \"Lily\", \"Aarnav\")"
      ],
      "metadata": {
        "colab": {
          "base_uri": "https://localhost:8080/"
        },
        "id": "iq0bSqptNNL-",
        "outputId": "e695514e-0ecd-421c-f8a5-f369a9be42bd"
      },
      "execution_count": null,
      "outputs": [
        {
          "output_type": "stream",
          "name": "stdout",
          "text": [
            "My father's is James\n",
            "My mother's is Lily\n",
            "My name is Aarnav\n"
          ]
        }
      ]
    },
    {
      "cell_type": "code",
      "source": [
        "# If I don't give input for default argument\n",
        "# Then default value will be used\n",
        "\n",
        "introduce_family(\"James\", \"Lily\")"
      ],
      "metadata": {
        "colab": {
          "base_uri": "https://localhost:8080/"
        },
        "id": "QyFYEldlNVpw",
        "outputId": "df548821-6964-4a41-8cd1-db88e3ae193f"
      },
      "execution_count": null,
      "outputs": [
        {
          "output_type": "stream",
          "name": "stdout",
          "text": [
            "My father's is James\n",
            "My mother's is Lily\n",
            "My name is Harry\n"
          ]
        }
      ]
    },
    {
      "cell_type": "code",
      "source": [
        "# Print today's date\n",
        "\n",
        "def today(date = 1, month = 1, year = 2024) :\n",
        "  print(date, '/', month, '/', year)\n",
        "\n",
        "today()\n",
        "today(10)\n",
        "today(10, 3)\n",
        "today(10, 3, 2021)"
      ],
      "metadata": {
        "colab": {
          "base_uri": "https://localhost:8080/"
        },
        "id": "GE6WLQLjNrBK",
        "outputId": "e8d231ca-a053-486b-d87f-865729698b7d"
      },
      "execution_count": null,
      "outputs": [
        {
          "output_type": "stream",
          "name": "stdout",
          "text": [
            "1 / 1 / 2024\n",
            "10 / 1 / 2024\n",
            "10 / 3 / 2024\n",
            "10 / 3 / 2021\n"
          ]
        }
      ]
    },
    {
      "cell_type": "code",
      "source": [
        "# Rule -> Default arguments always come after non-default arguments\n",
        "\n",
        "# Example of errors\n",
        "# mult(a=3, b)\n",
        "# Correct -> mult(b, a=3)\n",
        "# mult(a, b=3, c)\n",
        "# Correct -> mult(a, c, b=3)\n",
        "# mult(a, b=3, c, d=4)\n",
        "# Correct -> mult(a, c, b=3, d=4)\n",
        "\n",
        "def mult(a=3, b) :\n",
        "  print(a * b)\n",
        "\n",
        "mult(2, 4)"
      ],
      "metadata": {
        "colab": {
          "base_uri": "https://localhost:8080/",
          "height": 142
        },
        "id": "HIhQoG30Ocsm",
        "outputId": "7f5ccadb-c2be-464b-85e7-cd9dc1d7e530"
      },
      "execution_count": null,
      "outputs": [
        {
          "output_type": "error",
          "ename": "SyntaxError",
          "evalue": "ignored",
          "traceback": [
            "\u001b[0;36m  File \u001b[0;32m\"<ipython-input-14-6e4fb593489f>\"\u001b[0;36m, line \u001b[0;32m1\u001b[0m\n\u001b[0;31m    def mult(a=3, b) :\u001b[0m\n\u001b[0m                  ^\u001b[0m\n\u001b[0;31mSyntaxError\u001b[0m\u001b[0;31m:\u001b[0m non-default argument follows default argument\n"
          ]
        }
      ]
    },
    {
      "cell_type": "markdown",
      "source": [
        "Keyworded Arguments\n",
        "\n",
        "Give input value for function arguments in random order"
      ],
      "metadata": {
        "id": "n2-JoongQSBm"
      }
    },
    {
      "cell_type": "code",
      "source": [
        "def introduce_family(father_name, mother_name, my_name):\n",
        "    print(\"My father's is\", father_name)\n",
        "    print(\"My mother's is\", mother_name)\n",
        "    print(\"My name is\", my_name)"
      ],
      "metadata": {
        "id": "CeqA5cBAOyxz"
      },
      "execution_count": null,
      "outputs": []
    },
    {
      "cell_type": "code",
      "source": [
        "introduce_family(\n",
        "    my_name = \"Harry\",\n",
        "    father_name = \"James\",\n",
        "    mother_name = \"Lily\"\n",
        ")"
      ],
      "metadata": {
        "colab": {
          "base_uri": "https://localhost:8080/"
        },
        "id": "P0X0kej1QpJg",
        "outputId": "0646a8b2-6b11-4e07-e7a1-eaa38b39d4f1"
      },
      "execution_count": null,
      "outputs": [
        {
          "output_type": "stream",
          "name": "stdout",
          "text": [
            "My father's is James\n",
            "My mother's is Lily\n",
            "My name is Harry\n"
          ]
        }
      ]
    },
    {
      "cell_type": "code",
      "source": [
        "help(introduce_family)"
      ],
      "metadata": {
        "colab": {
          "base_uri": "https://localhost:8080/"
        },
        "id": "sY3WIrOjR4ca",
        "outputId": "77f2c059-8ee9-43c9-b0b8-48c20129736e"
      },
      "execution_count": null,
      "outputs": [
        {
          "output_type": "stream",
          "name": "stdout",
          "text": [
            "Help on function introduce_family in module __main__:\n",
            "\n",
            "introduce_family(father_name, mother_name, my_name)\n",
            "\n"
          ]
        }
      ]
    },
    {
      "cell_type": "code",
      "source": [
        "# Rule - Positional argument comes before keyword argument\n",
        "\n",
        "introduce_family(\n",
        "    father_name = \"James\",\n",
        "    \"Lily\",\n",
        "    \"Harry\"\n",
        ")"
      ],
      "metadata": {
        "colab": {
          "base_uri": "https://localhost:8080/",
          "height": 142
        },
        "id": "Qb6EY8-SReTB",
        "outputId": "edbe5bcb-3b06-4e6a-ee3b-3b090ca1b7d5"
      },
      "execution_count": null,
      "outputs": [
        {
          "output_type": "error",
          "ename": "SyntaxError",
          "evalue": "ignored",
          "traceback": [
            "\u001b[0;36m  File \u001b[0;32m\"<ipython-input-17-2eb57e99e1a0>\"\u001b[0;36m, line \u001b[0;32m5\u001b[0m\n\u001b[0;31m    )\u001b[0m\n\u001b[0m    ^\u001b[0m\n\u001b[0;31mSyntaxError\u001b[0m\u001b[0;31m:\u001b[0m positional argument follows keyword argument\n"
          ]
        }
      ]
    },
    {
      "cell_type": "markdown",
      "source": [
        "Using positional, default and keyworded arguments together"
      ],
      "metadata": {
        "id": "kkaCfCCSSsgG"
      }
    },
    {
      "cell_type": "code",
      "source": [
        "def family(father, mother, child=\"Harry\") :\n",
        "  print(father)\n",
        "  print(mother)\n",
        "  print(child)\n",
        "\n",
        "family(\"James\", mother=\"Lily\")\n",
        "print('-' * 10)\n",
        "family(\"James\", mother=\"Lily\", child=\"Aarnav\")\n",
        "print('-' * 10)\n",
        "family(\"James\", child=\"Aarnav\", mother=\"Lily\")\n"
      ],
      "metadata": {
        "colab": {
          "base_uri": "https://localhost:8080/"
        },
        "id": "NBulCcWFSE4y",
        "outputId": "667891aa-09b3-4264-9575-a0cc1521e477"
      },
      "execution_count": null,
      "outputs": [
        {
          "output_type": "stream",
          "name": "stdout",
          "text": [
            "James\n",
            "Lily\n",
            "Harry\n",
            "----------\n",
            "James\n",
            "Lily\n",
            "Aarnav\n",
            "----------\n",
            "James\n",
            "Lily\n",
            "Aarnav\n"
          ]
        }
      ]
    },
    {
      "cell_type": "code",
      "source": [
        "# Quiz 5\n",
        "\n",
        "def multiply(num1=3, num2):\n",
        "    return num1 * num2\n",
        "\n",
        "print(multiply(2, 4))"
      ],
      "metadata": {
        "colab": {
          "base_uri": "https://localhost:8080/",
          "height": 142
        },
        "id": "_PJZAoTjS9nm",
        "outputId": "8f11afc6-a3da-4754-d17b-49a0116ccc22"
      },
      "execution_count": null,
      "outputs": [
        {
          "output_type": "error",
          "ename": "SyntaxError",
          "evalue": "ignored",
          "traceback": [
            "\u001b[0;36m  File \u001b[0;32m\"<ipython-input-23-0dcc50a7b980>\"\u001b[0;36m, line \u001b[0;32m3\u001b[0m\n\u001b[0;31m    def multiply(num1=3, num2):\u001b[0m\n\u001b[0m                         ^\u001b[0m\n\u001b[0;31mSyntaxError\u001b[0m\u001b[0;31m:\u001b[0m non-default argument follows default argument\n"
          ]
        }
      ]
    },
    {
      "cell_type": "markdown",
      "source": [
        "Break -> 10:10pm"
      ],
      "metadata": {
        "id": "pJaR2pGLTahF"
      }
    },
    {
      "cell_type": "markdown",
      "source": [
        "Scope of Variable"
      ],
      "metadata": {
        "id": "OGzAsHd6WeHY"
      }
    },
    {
      "cell_type": "code",
      "source": [
        "chief_of_house = \"Mother\"\n",
        "print(\"Chief of house is - \", chief_of_house)\n",
        "\n",
        "def change_chief():\n",
        "    chief_of_house = \"Father\"\n",
        "    print(\"New chief of house is -\", chief_of_house)\n",
        "\n",
        "change_chief()"
      ],
      "metadata": {
        "colab": {
          "base_uri": "https://localhost:8080/"
        },
        "id": "fpJZ3qc3Tb0s",
        "outputId": "eeb6b95b-e2e1-4cc2-aae1-b0deb7f0f272"
      },
      "execution_count": null,
      "outputs": [
        {
          "output_type": "stream",
          "name": "stdout",
          "text": [
            "Chief of house is -  Mother\n",
            "New chief of house is - Father\n"
          ]
        }
      ]
    },
    {
      "cell_type": "code",
      "source": [
        "# Case 1\n",
        "\n",
        "a = 10 # public bathroom\n",
        "\n",
        "def hello() : # room\n",
        "  print(a)\n",
        "\n",
        "hello()"
      ],
      "metadata": {
        "colab": {
          "base_uri": "https://localhost:8080/"
        },
        "id": "SYHD0WsGW-gC",
        "outputId": "9acc4f2e-278e-45a2-9875-1de00bcdd243"
      },
      "execution_count": null,
      "outputs": [
        {
          "output_type": "stream",
          "name": "stdout",
          "text": [
            "10\n"
          ]
        }
      ]
    },
    {
      "cell_type": "code",
      "source": [
        "# Case 2\n",
        "\n",
        "def hello() :\n",
        "  a = 10\n",
        "  print(a)\n",
        "\n",
        "hello()"
      ],
      "metadata": {
        "colab": {
          "base_uri": "https://localhost:8080/"
        },
        "id": "5-eKW04_XH_6",
        "outputId": "57b7ae63-e461-4597-ae1a-649510548954"
      },
      "execution_count": null,
      "outputs": [
        {
          "output_type": "stream",
          "name": "stdout",
          "text": [
            "10\n"
          ]
        }
      ]
    },
    {
      "cell_type": "code",
      "source": [
        "# Case 3\n",
        "\n",
        "# Global variable -> Public value accessible to everyone\n",
        "a = 10 # public bathroom\n",
        "\n",
        "def hello() : # room\n",
        "  # Local variable -> Private value accessible within scope\n",
        "  a = 20 # private bathroom\n",
        "  print(a)\n",
        "\n",
        "hello()"
      ],
      "metadata": {
        "colab": {
          "base_uri": "https://localhost:8080/"
        },
        "id": "uc-3v2-nXMYT",
        "outputId": "653d0646-3fad-4d89-fb86-2f9d7fdbfff6"
      },
      "execution_count": null,
      "outputs": [
        {
          "output_type": "stream",
          "name": "stdout",
          "text": [
            "20\n"
          ]
        }
      ]
    },
    {
      "cell_type": "code",
      "source": [
        "# Case 4\n",
        "\n",
        "# Global\n",
        "x = 10\n",
        "\n",
        "def function():\n",
        "    # Local\n",
        "    x = 5\n",
        "    print(x)\n",
        "\n",
        "function()\n",
        "print(x)"
      ],
      "metadata": {
        "colab": {
          "base_uri": "https://localhost:8080/"
        },
        "id": "egqxd-XIYOp-",
        "outputId": "fe634818-2c4f-43e9-f409-2a1f65b6cb92"
      },
      "execution_count": null,
      "outputs": [
        {
          "output_type": "stream",
          "name": "stdout",
          "text": [
            "5\n",
            "10\n"
          ]
        }
      ]
    },
    {
      "cell_type": "code",
      "source": [
        "def function():\n",
        "    y = 5\n",
        "    print(y)\n",
        "\n",
        "function()\n",
        "print(y)"
      ],
      "metadata": {
        "colab": {
          "base_uri": "https://localhost:8080/",
          "height": 231
        },
        "id": "-jx5kMh4ZEIl",
        "outputId": "65b2d774-a1c3-40bf-c6a1-3c52c7bfe823"
      },
      "execution_count": null,
      "outputs": [
        {
          "output_type": "stream",
          "name": "stdout",
          "text": [
            "5\n"
          ]
        },
        {
          "output_type": "error",
          "ename": "NameError",
          "evalue": "ignored",
          "traceback": [
            "\u001b[0;31m---------------------------------------------------------------------------\u001b[0m",
            "\u001b[0;31mNameError\u001b[0m                                 Traceback (most recent call last)",
            "\u001b[0;32m<ipython-input-30-585d0cd313a7>\u001b[0m in \u001b[0;36m<cell line: 6>\u001b[0;34m()\u001b[0m\n\u001b[1;32m      4\u001b[0m \u001b[0;34m\u001b[0m\u001b[0m\n\u001b[1;32m      5\u001b[0m \u001b[0mfunction\u001b[0m\u001b[0;34m(\u001b[0m\u001b[0;34m)\u001b[0m\u001b[0;34m\u001b[0m\u001b[0;34m\u001b[0m\u001b[0m\n\u001b[0;32m----> 6\u001b[0;31m \u001b[0mprint\u001b[0m\u001b[0;34m(\u001b[0m\u001b[0my\u001b[0m\u001b[0;34m)\u001b[0m\u001b[0;34m\u001b[0m\u001b[0;34m\u001b[0m\u001b[0m\n\u001b[0m",
            "\u001b[0;31mNameError\u001b[0m: name 'y' is not defined"
          ]
        }
      ]
    },
    {
      "cell_type": "code",
      "source": [
        "# Using global variable inside function\n",
        "\n",
        "y = 5\n",
        "\n",
        "def function():\n",
        "    print(y)\n",
        "\n",
        "function()"
      ],
      "metadata": {
        "colab": {
          "base_uri": "https://localhost:8080/"
        },
        "id": "GHBUjcvsZZlw",
        "outputId": "4edbe512-6a31-4f47-ffed-564128c652c9"
      },
      "execution_count": null,
      "outputs": [
        {
          "output_type": "stream",
          "name": "stdout",
          "text": [
            "5\n"
          ]
        }
      ]
    },
    {
      "cell_type": "code",
      "source": [
        "y = 5 # global variable\n",
        "\n",
        "def function():\n",
        "    y = 10 # Making local variable\n",
        "    print(y) # Print local variable\n",
        "\n",
        "function()\n",
        "print(y) # Print global variable"
      ],
      "metadata": {
        "colab": {
          "base_uri": "https://localhost:8080/"
        },
        "id": "h5WgfmpDZ_qY",
        "outputId": "d43be14b-ead5-4cf7-a44a-7c9f5778f4f2"
      },
      "execution_count": null,
      "outputs": [
        {
          "output_type": "stream",
          "name": "stdout",
          "text": [
            "10\n",
            "5\n"
          ]
        }
      ]
    },
    {
      "cell_type": "code",
      "source": [
        "# Changing global variable inside function\n",
        "\n",
        "y = 5\n",
        "\n",
        "def function():\n",
        "    global y # this line brings global variable inside the function\n",
        "    y = 10 # not creating a local variable\n",
        "    print(y)\n",
        "\n",
        "function()\n",
        "print(y)"
      ],
      "metadata": {
        "colab": {
          "base_uri": "https://localhost:8080/"
        },
        "id": "LQOOTKZpZgnx",
        "outputId": "fe35b2c3-0041-4ccb-fd14-2415c844df95"
      },
      "execution_count": null,
      "outputs": [
        {
          "output_type": "stream",
          "name": "stdout",
          "text": [
            "10\n",
            "10\n"
          ]
        }
      ]
    },
    {
      "cell_type": "markdown",
      "source": [
        "Lambda functions\n",
        "\n",
        "Writing function in single line"
      ],
      "metadata": {
        "id": "z9t3seKIa6Ox"
      }
    },
    {
      "cell_type": "code",
      "source": [
        "# Simple if-else code\n",
        "\n",
        "x = int(input())\n",
        "\n",
        "if x > 10 :\n",
        "  print(\"> 10\")\n",
        "else :\n",
        "  print(\"< 10\")"
      ],
      "metadata": {
        "colab": {
          "base_uri": "https://localhost:8080/"
        },
        "id": "bpw6OVL4a7IF",
        "outputId": "7e240d78-f92a-4aa0-ab5a-177c25355dd6"
      },
      "execution_count": null,
      "outputs": [
        {
          "output_type": "stream",
          "name": "stdout",
          "text": [
            "15\n",
            "> 10\n"
          ]
        }
      ]
    },
    {
      "cell_type": "code",
      "source": [
        "# Ternary operator\n",
        "\n",
        "'''\n",
        "Syntax:\n",
        "[on_true] if [condition] else [on_false]\n",
        "'''\n",
        "\n",
        "x = int(input())\n",
        "\n",
        "print(\">10\") if x > 10 else print(\"<10\")"
      ],
      "metadata": {
        "colab": {
          "base_uri": "https://localhost:8080/"
        },
        "id": "0DKgRS3QbNGa",
        "outputId": "3efeef69-b082-4897-ac2b-b3905483d5c2"
      },
      "execution_count": null,
      "outputs": [
        {
          "output_type": "stream",
          "name": "stdout",
          "text": [
            "15\n",
            ">10\n"
          ]
        }
      ]
    },
    {
      "cell_type": "markdown",
      "source": [
        "Without argument"
      ],
      "metadata": {
        "id": "TIiHIk9VckEp"
      }
    },
    {
      "cell_type": "code",
      "source": [
        "def hello() :\n",
        "  print(\"Hello\")\n",
        "\n",
        "hello()"
      ],
      "metadata": {
        "colab": {
          "base_uri": "https://localhost:8080/"
        },
        "id": "7BBn5gcybqM4",
        "outputId": "617a019d-9eee-4091-f4fb-4f5114837a02"
      },
      "execution_count": null,
      "outputs": [
        {
          "output_type": "stream",
          "name": "stdout",
          "text": [
            "Hello\n"
          ]
        }
      ]
    },
    {
      "cell_type": "code",
      "source": [
        "hello = lambda: print(\"Hello\")\n",
        "\n",
        "hello()"
      ],
      "metadata": {
        "colab": {
          "base_uri": "https://localhost:8080/"
        },
        "id": "kaQbosEacKjE",
        "outputId": "988989ba-28d5-418b-df3f-f1cf4373ba24"
      },
      "execution_count": null,
      "outputs": [
        {
          "output_type": "stream",
          "name": "stdout",
          "text": [
            "Hello\n"
          ]
        }
      ]
    },
    {
      "cell_type": "markdown",
      "source": [
        "With argument"
      ],
      "metadata": {
        "id": "sdkQh8ULclUk"
      }
    },
    {
      "cell_type": "code",
      "source": [
        "# Normal\n",
        "def square(x) :\n",
        "  return x**2\n",
        "\n",
        "# Lambda\n",
        "square = lambda x: x**2\n",
        "print(square(3))"
      ],
      "metadata": {
        "colab": {
          "base_uri": "https://localhost:8080/"
        },
        "id": "iydIdcHdcjae",
        "outputId": "e4ef4a80-77b8-451e-c2c4-db70c5231859"
      },
      "execution_count": null,
      "outputs": [
        {
          "output_type": "stream",
          "name": "stdout",
          "text": [
            "9\n"
          ]
        }
      ]
    },
    {
      "cell_type": "code",
      "source": [
        "# Normal\n",
        "def sum(x, y) :\n",
        "  return x + y\n",
        "\n",
        "# Lambda\n",
        "sum = lambda x, y: x+y\n",
        "print(sum(3, 4))"
      ],
      "metadata": {
        "colab": {
          "base_uri": "https://localhost:8080/"
        },
        "id": "33MtVNUVc05c",
        "outputId": "a53a0a97-1a01-40bf-bce1-368f8446b2f6"
      },
      "execution_count": null,
      "outputs": [
        {
          "output_type": "stream",
          "name": "stdout",
          "text": [
            "7\n"
          ]
        }
      ]
    },
    {
      "cell_type": "code",
      "source": [
        "# Quiz 6\n",
        "\n",
        "def function(var):\n",
        "    print(var)\n",
        "\n",
        "function(3)\n",
        "\n",
        "var = 5\n",
        "function(var)"
      ],
      "metadata": {
        "colab": {
          "base_uri": "https://localhost:8080/"
        },
        "id": "Rqi06WY-dXCy",
        "outputId": "ff7bc99f-8bbf-4cb1-fdb7-fc4d92a944e4"
      },
      "execution_count": null,
      "outputs": [
        {
          "output_type": "stream",
          "name": "stdout",
          "text": [
            "3\n",
            "5\n"
          ]
        }
      ]
    },
    {
      "cell_type": "code",
      "source": [
        "# Quiz 7\n",
        "\n",
        "def function(var=5):\n",
        "    var = var + 1\n",
        "    print(var)\n",
        "\n",
        "function()\n",
        "function(10)"
      ],
      "metadata": {
        "colab": {
          "base_uri": "https://localhost:8080/"
        },
        "id": "hGCsHmCQd0We",
        "outputId": "73762b84-1b2b-4817-ea16-2f5ccf60fcb7"
      },
      "execution_count": null,
      "outputs": [
        {
          "output_type": "stream",
          "name": "stdout",
          "text": [
            "6\n",
            "11\n"
          ]
        }
      ]
    }
  ]
}